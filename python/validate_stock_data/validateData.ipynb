{
 "cells": [
  {
   "cell_type": "code",
   "execution_count": 4,
   "metadata": {},
   "outputs": [],
   "source": [
    "import pandas as pd\n",
    "import re"
   ]
  },
  {
   "cell_type": "markdown",
   "metadata": {},
   "source": [
    "# Load the generated CSV"
   ]
  },
  {
   "cell_type": "code",
   "execution_count": 38,
   "metadata": {},
   "outputs": [
    {
     "data": {
      "text/html": [
       "<div>\n",
       "<style scoped>\n",
       "    .dataframe tbody tr th:only-of-type {\n",
       "        vertical-align: middle;\n",
       "    }\n",
       "\n",
       "    .dataframe tbody tr th {\n",
       "        vertical-align: top;\n",
       "    }\n",
       "\n",
       "    .dataframe thead th {\n",
       "        text-align: right;\n",
       "    }\n",
       "</style>\n",
       "<table border=\"1\" class=\"dataframe\">\n",
       "  <thead>\n",
       "    <tr style=\"text-align: right;\">\n",
       "      <th></th>\n",
       "      <th>date</th>\n",
       "      <th>symbol</th>\n",
       "      <th>close</th>\n",
       "    </tr>\n",
       "  </thead>\n",
       "  <tbody>\n",
       "    <tr>\n",
       "      <th>0</th>\n",
       "      <td>2022-01-03</td>\n",
       "      <td>AAPL</td>\n",
       "      <td>99.28</td>\n",
       "    </tr>\n",
       "    <tr>\n",
       "      <th>1</th>\n",
       "      <td>2022-01-03</td>\n",
       "      <td>GOOG</td>\n",
       "      <td>149.13</td>\n",
       "    </tr>\n",
       "    <tr>\n",
       "      <th>2</th>\n",
       "      <td>2022-01-03</td>\n",
       "      <td>TSLA</td>\n",
       "      <td>201.87</td>\n",
       "    </tr>\n",
       "    <tr>\n",
       "      <th>3</th>\n",
       "      <td>2022-01-03</td>\n",
       "      <td>AMZN</td>\n",
       "      <td>250.18</td>\n",
       "    </tr>\n",
       "    <tr>\n",
       "      <th>4</th>\n",
       "      <td>2022-01-03</td>\n",
       "      <td>MSFT</td>\n",
       "      <td>293.11</td>\n",
       "    </tr>\n",
       "  </tbody>\n",
       "</table>\n",
       "</div>"
      ],
      "text/plain": [
       "         date symbol   close\n",
       "0  2022-01-03   AAPL   99.28\n",
       "1  2022-01-03   GOOG  149.13\n",
       "2  2022-01-03   TSLA  201.87\n",
       "3  2022-01-03   AMZN  250.18\n",
       "4  2022-01-03   MSFT  293.11"
      ]
     },
     "execution_count": 38,
     "metadata": {},
     "output_type": "execute_result"
    }
   ],
   "source": [
    "stock_prices = pd.read_csv('/Users/toddtan/Desktop/Records/personal_projects/leetcode/pandas/validate_stock_data/stock_prices_mock.csv')\n",
    "stock_prices.head(5)"
   ]
  },
  {
   "cell_type": "markdown",
   "metadata": {},
   "source": [
    "# 1. Check Missing values Summary"
   ]
  },
  {
   "cell_type": "code",
   "execution_count": 39,
   "metadata": {},
   "outputs": [
    {
     "data": {
      "text/plain": [
       "date       0\n",
       "symbol     0\n",
       "close     58\n",
       "dtype: int64"
      ]
     },
     "execution_count": 39,
     "metadata": {},
     "output_type": "execute_result"
    }
   ],
   "source": [
    "stock_prices.isnull().sum()"
   ]
  },
  {
   "cell_type": "markdown",
   "metadata": {},
   "source": [
    "# 2. Data types"
   ]
  },
  {
   "cell_type": "code",
   "execution_count": 40,
   "metadata": {},
   "outputs": [
    {
     "data": {
      "text/plain": [
       "date       object\n",
       "symbol     object\n",
       "close     float64\n",
       "dtype: object"
      ]
     },
     "execution_count": 40,
     "metadata": {},
     "output_type": "execute_result"
    }
   ],
   "source": [
    "stock_prices.dtypes"
   ]
  },
  {
   "cell_type": "markdown",
   "metadata": {},
   "source": [
    "# 3. Convert 'date' to datetime and validate"
   ]
  },
  {
   "cell_type": "code",
   "execution_count": 41,
   "metadata": {},
   "outputs": [
    {
     "data": {
      "text/plain": [
       "date      datetime64[ns]\n",
       "symbol            object\n",
       "close            float64\n",
       "dtype: object"
      ]
     },
     "execution_count": 41,
     "metadata": {},
     "output_type": "execute_result"
    }
   ],
   "source": [
    "stock_prices['date'] = pd.to_datetime(stock_prices['date'], errors='coerce')\n",
    "stock_prices.dtypes"
   ]
  },
  {
   "cell_type": "markdown",
   "metadata": {},
   "source": [
    "# 4. Validate symbol: uppercase letters only, no special chars"
   ]
  },
  {
   "cell_type": "code",
   "execution_count": 45,
   "metadata": {},
   "outputs": [
    {
     "data": {
      "text/html": [
       "<div>\n",
       "<style scoped>\n",
       "    .dataframe tbody tr th:only-of-type {\n",
       "        vertical-align: middle;\n",
       "    }\n",
       "\n",
       "    .dataframe tbody tr th {\n",
       "        vertical-align: top;\n",
       "    }\n",
       "\n",
       "    .dataframe thead th {\n",
       "        text-align: right;\n",
       "    }\n",
       "</style>\n",
       "<table border=\"1\" class=\"dataframe\">\n",
       "  <thead>\n",
       "    <tr style=\"text-align: right;\">\n",
       "      <th></th>\n",
       "      <th>date</th>\n",
       "      <th>symbol</th>\n",
       "      <th>close</th>\n",
       "    </tr>\n",
       "  </thead>\n",
       "  <tbody>\n",
       "    <tr>\n",
       "      <th>388</th>\n",
       "      <td>2022-02-24</td>\n",
       "      <td>bad$symbol</td>\n",
       "      <td>499.71</td>\n",
       "    </tr>\n",
       "    <tr>\n",
       "      <th>838</th>\n",
       "      <td>2022-04-28</td>\n",
       "      <td>bad$symbol</td>\n",
       "      <td>496.14</td>\n",
       "    </tr>\n",
       "    <tr>\n",
       "      <th>1028</th>\n",
       "      <td>2022-05-25</td>\n",
       "      <td>bad$symbol</td>\n",
       "      <td>499.07</td>\n",
       "    </tr>\n",
       "    <tr>\n",
       "      <th>1058</th>\n",
       "      <td>2022-05-30</td>\n",
       "      <td>bad$symbol</td>\n",
       "      <td>498.30</td>\n",
       "    </tr>\n",
       "    <tr>\n",
       "      <th>1183</th>\n",
       "      <td>2022-06-16</td>\n",
       "      <td>bad$symbol</td>\n",
       "      <td>257.59</td>\n",
       "    </tr>\n",
       "    <tr>\n",
       "      <th>1467</th>\n",
       "      <td>2022-07-26</td>\n",
       "      <td>bad$symbol</td>\n",
       "      <td>448.16</td>\n",
       "    </tr>\n",
       "    <tr>\n",
       "      <th>1672</th>\n",
       "      <td>2022-08-24</td>\n",
       "      <td>bad$symbol</td>\n",
       "      <td>205.66</td>\n",
       "    </tr>\n",
       "    <tr>\n",
       "      <th>1710</th>\n",
       "      <td>2022-08-30</td>\n",
       "      <td>bad$symbol</td>\n",
       "      <td>92.54</td>\n",
       "    </tr>\n",
       "    <tr>\n",
       "      <th>1712</th>\n",
       "      <td>2022-08-30</td>\n",
       "      <td>bad$symbol</td>\n",
       "      <td>203.30</td>\n",
       "    </tr>\n",
       "    <tr>\n",
       "      <th>2081</th>\n",
       "      <td>2022-10-20</td>\n",
       "      <td>bad$symbol</td>\n",
       "      <td>151.69</td>\n",
       "    </tr>\n",
       "    <tr>\n",
       "      <th>2515</th>\n",
       "      <td>2022-12-20</td>\n",
       "      <td>bad$symbol</td>\n",
       "      <td>346.27</td>\n",
       "    </tr>\n",
       "    <tr>\n",
       "      <th>2702</th>\n",
       "      <td>2023-01-16</td>\n",
       "      <td>bad$symbol</td>\n",
       "      <td>201.27</td>\n",
       "    </tr>\n",
       "    <tr>\n",
       "      <th>2958</th>\n",
       "      <td>2023-02-20</td>\n",
       "      <td>bad$symbol</td>\n",
       "      <td>496.32</td>\n",
       "    </tr>\n",
       "    <tr>\n",
       "      <th>3079</th>\n",
       "      <td>2023-03-08</td>\n",
       "      <td>bad$symbol</td>\n",
       "      <td>556.64</td>\n",
       "    </tr>\n",
       "    <tr>\n",
       "      <th>3398</th>\n",
       "      <td>2023-04-21</td>\n",
       "      <td>bad$symbol</td>\n",
       "      <td>500.99</td>\n",
       "    </tr>\n",
       "    <tr>\n",
       "      <th>4073</th>\n",
       "      <td>2023-07-26</td>\n",
       "      <td>bad$symbol</td>\n",
       "      <td>245.94</td>\n",
       "    </tr>\n",
       "    <tr>\n",
       "      <th>4174</th>\n",
       "      <td>2023-08-09</td>\n",
       "      <td>bad$symbol</td>\n",
       "      <td>299.89</td>\n",
       "    </tr>\n",
       "    <tr>\n",
       "      <th>4319</th>\n",
       "      <td>2023-08-29</td>\n",
       "      <td>bad$symbol</td>\n",
       "      <td>549.08</td>\n",
       "    </tr>\n",
       "    <tr>\n",
       "      <th>4727</th>\n",
       "      <td>2023-10-25</td>\n",
       "      <td>bad$symbol</td>\n",
       "      <td>448.61</td>\n",
       "    </tr>\n",
       "    <tr>\n",
       "      <th>4911</th>\n",
       "      <td>2023-11-21</td>\n",
       "      <td>bad$symbol</td>\n",
       "      <td>149.33</td>\n",
       "    </tr>\n",
       "  </tbody>\n",
       "</table>\n",
       "</div>"
      ],
      "text/plain": [
       "           date      symbol   close\n",
       "388  2022-02-24  bad$symbol  499.71\n",
       "838  2022-04-28  bad$symbol  496.14\n",
       "1028 2022-05-25  bad$symbol  499.07\n",
       "1058 2022-05-30  bad$symbol  498.30\n",
       "1183 2022-06-16  bad$symbol  257.59\n",
       "1467 2022-07-26  bad$symbol  448.16\n",
       "1672 2022-08-24  bad$symbol  205.66\n",
       "1710 2022-08-30  bad$symbol   92.54\n",
       "1712 2022-08-30  bad$symbol  203.30\n",
       "2081 2022-10-20  bad$symbol  151.69\n",
       "2515 2022-12-20  bad$symbol  346.27\n",
       "2702 2023-01-16  bad$symbol  201.27\n",
       "2958 2023-02-20  bad$symbol  496.32\n",
       "3079 2023-03-08  bad$symbol  556.64\n",
       "3398 2023-04-21  bad$symbol  500.99\n",
       "4073 2023-07-26  bad$symbol  245.94\n",
       "4174 2023-08-09  bad$symbol  299.89\n",
       "4319 2023-08-29  bad$symbol  549.08\n",
       "4727 2023-10-25  bad$symbol  448.61\n",
       "4911 2023-11-21  bad$symbol  149.33"
      ]
     },
     "execution_count": 45,
     "metadata": {},
     "output_type": "execute_result"
    }
   ],
   "source": [
    "stock_prices[~stock_prices['symbol'].astype(str).str.fullmatch('[A-Z]+')]"
   ]
  },
  {
   "cell_type": "markdown",
   "metadata": {},
   "source": [
    "# 5. Validate close price: must be a positive float"
   ]
  },
  {
   "cell_type": "code",
   "execution_count": 51,
   "metadata": {},
   "outputs": [
    {
     "data": {
      "text/html": [
       "<div>\n",
       "<style scoped>\n",
       "    .dataframe tbody tr th:only-of-type {\n",
       "        vertical-align: middle;\n",
       "    }\n",
       "\n",
       "    .dataframe tbody tr th {\n",
       "        vertical-align: top;\n",
       "    }\n",
       "\n",
       "    .dataframe thead th {\n",
       "        text-align: right;\n",
       "    }\n",
       "</style>\n",
       "<table border=\"1\" class=\"dataframe\">\n",
       "  <thead>\n",
       "    <tr style=\"text-align: right;\">\n",
       "      <th></th>\n",
       "      <th>date</th>\n",
       "      <th>symbol</th>\n",
       "      <th>close</th>\n",
       "    </tr>\n",
       "  </thead>\n",
       "  <tbody>\n",
       "    <tr>\n",
       "      <th>1259</th>\n",
       "      <td>2022-06-27</td>\n",
       "      <td>INTC</td>\n",
       "      <td>-548.06</td>\n",
       "    </tr>\n",
       "    <tr>\n",
       "      <th>1446</th>\n",
       "      <td>2022-07-22</td>\n",
       "      <td>META</td>\n",
       "      <td>-404.09</td>\n",
       "    </tr>\n",
       "    <tr>\n",
       "      <th>1520</th>\n",
       "      <td>2022-08-03</td>\n",
       "      <td>AAPL</td>\n",
       "      <td>-101.15</td>\n",
       "    </tr>\n",
       "    <tr>\n",
       "      <th>1608</th>\n",
       "      <td>2022-08-15</td>\n",
       "      <td>BABA</td>\n",
       "      <td>-496.46</td>\n",
       "    </tr>\n",
       "    <tr>\n",
       "      <th>1884</th>\n",
       "      <td>2022-09-22</td>\n",
       "      <td>MSFT</td>\n",
       "      <td>-298.92</td>\n",
       "    </tr>\n",
       "    <tr>\n",
       "      <th>1910</th>\n",
       "      <td>2022-09-27</td>\n",
       "      <td>AAPL</td>\n",
       "      <td>-102.62</td>\n",
       "    </tr>\n",
       "    <tr>\n",
       "      <th>1936</th>\n",
       "      <td>2022-09-29</td>\n",
       "      <td>META</td>\n",
       "      <td>-399.41</td>\n",
       "    </tr>\n",
       "    <tr>\n",
       "      <th>2161</th>\n",
       "      <td>2022-11-01</td>\n",
       "      <td>GOOG</td>\n",
       "      <td>-151.75</td>\n",
       "    </tr>\n",
       "    <tr>\n",
       "      <th>2617</th>\n",
       "      <td>2023-01-03</td>\n",
       "      <td>NFLX</td>\n",
       "      <td>-453.18</td>\n",
       "    </tr>\n",
       "    <tr>\n",
       "      <th>2761</th>\n",
       "      <td>2023-01-24</td>\n",
       "      <td>GOOG</td>\n",
       "      <td>-149.68</td>\n",
       "    </tr>\n",
       "    <tr>\n",
       "      <th>2860</th>\n",
       "      <td>2023-02-07</td>\n",
       "      <td>AAPL</td>\n",
       "      <td>-98.84</td>\n",
       "    </tr>\n",
       "    <tr>\n",
       "      <th>3264</th>\n",
       "      <td>2023-04-04</td>\n",
       "      <td>MSFT</td>\n",
       "      <td>-303.99</td>\n",
       "    </tr>\n",
       "    <tr>\n",
       "      <th>3426</th>\n",
       "      <td>2023-04-26</td>\n",
       "      <td>META</td>\n",
       "      <td>-398.06</td>\n",
       "    </tr>\n",
       "    <tr>\n",
       "      <th>4334</th>\n",
       "      <td>2023-08-31</td>\n",
       "      <td>MSFT</td>\n",
       "      <td>-300.25</td>\n",
       "    </tr>\n",
       "    <tr>\n",
       "      <th>4343</th>\n",
       "      <td>2023-09-01</td>\n",
       "      <td>AMZN</td>\n",
       "      <td>-243.90</td>\n",
       "    </tr>\n",
       "    <tr>\n",
       "      <th>4385</th>\n",
       "      <td>2023-09-07</td>\n",
       "      <td>NVDA</td>\n",
       "      <td>-352.14</td>\n",
       "    </tr>\n",
       "    <tr>\n",
       "      <th>4526</th>\n",
       "      <td>2023-09-27</td>\n",
       "      <td>META</td>\n",
       "      <td>-401.34</td>\n",
       "    </tr>\n",
       "    <tr>\n",
       "      <th>4813</th>\n",
       "      <td>2023-11-07</td>\n",
       "      <td>AMZN</td>\n",
       "      <td>-252.81</td>\n",
       "    </tr>\n",
       "  </tbody>\n",
       "</table>\n",
       "</div>"
      ],
      "text/plain": [
       "           date symbol   close\n",
       "1259 2022-06-27   INTC -548.06\n",
       "1446 2022-07-22   META -404.09\n",
       "1520 2022-08-03   AAPL -101.15\n",
       "1608 2022-08-15   BABA -496.46\n",
       "1884 2022-09-22   MSFT -298.92\n",
       "1910 2022-09-27   AAPL -102.62\n",
       "1936 2022-09-29   META -399.41\n",
       "2161 2022-11-01   GOOG -151.75\n",
       "2617 2023-01-03   NFLX -453.18\n",
       "2761 2023-01-24   GOOG -149.68\n",
       "2860 2023-02-07   AAPL  -98.84\n",
       "3264 2023-04-04   MSFT -303.99\n",
       "3426 2023-04-26   META -398.06\n",
       "4334 2023-08-31   MSFT -300.25\n",
       "4343 2023-09-01   AMZN -243.90\n",
       "4385 2023-09-07   NVDA -352.14\n",
       "4526 2023-09-27   META -401.34\n",
       "4813 2023-11-07   AMZN -252.81"
      ]
     },
     "execution_count": 51,
     "metadata": {},
     "output_type": "execute_result"
    }
   ],
   "source": [
    "stock_prices[stock_prices['close'] <= 0]"
   ]
  },
  {
   "cell_type": "markdown",
   "metadata": {},
   "source": [
    "# 6. Check for duplicate (date, symbol) combinations"
   ]
  },
  {
   "cell_type": "code",
   "execution_count": 59,
   "metadata": {},
   "outputs": [
    {
     "data": {
      "text/html": [
       "<div>\n",
       "<style scoped>\n",
       "    .dataframe tbody tr th:only-of-type {\n",
       "        vertical-align: middle;\n",
       "    }\n",
       "\n",
       "    .dataframe tbody tr th {\n",
       "        vertical-align: top;\n",
       "    }\n",
       "\n",
       "    .dataframe thead th {\n",
       "        text-align: right;\n",
       "    }\n",
       "</style>\n",
       "<table border=\"1\" class=\"dataframe\">\n",
       "  <thead>\n",
       "    <tr style=\"text-align: right;\">\n",
       "      <th></th>\n",
       "      <th>date</th>\n",
       "      <th>symbol</th>\n",
       "      <th>close</th>\n",
       "    </tr>\n",
       "  </thead>\n",
       "  <tbody>\n",
       "    <tr>\n",
       "      <th>1710</th>\n",
       "      <td>2022-08-30</td>\n",
       "      <td>bad$symbol</td>\n",
       "      <td>92.54</td>\n",
       "    </tr>\n",
       "    <tr>\n",
       "      <th>1712</th>\n",
       "      <td>2022-08-30</td>\n",
       "      <td>bad$symbol</td>\n",
       "      <td>203.30</td>\n",
       "    </tr>\n",
       "  </tbody>\n",
       "</table>\n",
       "</div>"
      ],
      "text/plain": [
       "           date      symbol   close\n",
       "1710 2022-08-30  bad$symbol   92.54\n",
       "1712 2022-08-30  bad$symbol  203.30"
      ]
     },
     "execution_count": 59,
     "metadata": {},
     "output_type": "execute_result"
    }
   ],
   "source": [
    "stock_prices[stock_prices.duplicated(subset=['date', 'symbol'], keep=False)]"
   ]
  },
  {
   "cell_type": "markdown",
   "metadata": {},
   "source": [
    "# 7. Check for outliers in close prices"
   ]
  },
  {
   "cell_type": "code",
   "execution_count": 64,
   "metadata": {},
   "outputs": [
    {
     "data": {
      "text/html": [
       "<div>\n",
       "<style scoped>\n",
       "    .dataframe tbody tr th:only-of-type {\n",
       "        vertical-align: middle;\n",
       "    }\n",
       "\n",
       "    .dataframe tbody tr th {\n",
       "        vertical-align: top;\n",
       "    }\n",
       "\n",
       "    .dataframe thead th {\n",
       "        text-align: right;\n",
       "    }\n",
       "</style>\n",
       "<table border=\"1\" class=\"dataframe\">\n",
       "  <thead>\n",
       "    <tr style=\"text-align: right;\">\n",
       "      <th></th>\n",
       "      <th>date</th>\n",
       "      <th>symbol</th>\n",
       "      <th>close</th>\n",
       "    </tr>\n",
       "  </thead>\n",
       "  <tbody>\n",
       "    <tr>\n",
       "      <th>1259</th>\n",
       "      <td>2022-06-27</td>\n",
       "      <td>INTC</td>\n",
       "      <td>-548.06</td>\n",
       "    </tr>\n",
       "    <tr>\n",
       "      <th>1446</th>\n",
       "      <td>2022-07-22</td>\n",
       "      <td>META</td>\n",
       "      <td>-404.09</td>\n",
       "    </tr>\n",
       "    <tr>\n",
       "      <th>1608</th>\n",
       "      <td>2022-08-15</td>\n",
       "      <td>BABA</td>\n",
       "      <td>-496.46</td>\n",
       "    </tr>\n",
       "    <tr>\n",
       "      <th>1884</th>\n",
       "      <td>2022-09-22</td>\n",
       "      <td>MSFT</td>\n",
       "      <td>-298.92</td>\n",
       "    </tr>\n",
       "    <tr>\n",
       "      <th>1936</th>\n",
       "      <td>2022-09-29</td>\n",
       "      <td>META</td>\n",
       "      <td>-399.41</td>\n",
       "    </tr>\n",
       "    <tr>\n",
       "      <th>2617</th>\n",
       "      <td>2023-01-03</td>\n",
       "      <td>NFLX</td>\n",
       "      <td>-453.18</td>\n",
       "    </tr>\n",
       "    <tr>\n",
       "      <th>3264</th>\n",
       "      <td>2023-04-04</td>\n",
       "      <td>MSFT</td>\n",
       "      <td>-303.99</td>\n",
       "    </tr>\n",
       "    <tr>\n",
       "      <th>3426</th>\n",
       "      <td>2023-04-26</td>\n",
       "      <td>META</td>\n",
       "      <td>-398.06</td>\n",
       "    </tr>\n",
       "    <tr>\n",
       "      <th>4334</th>\n",
       "      <td>2023-08-31</td>\n",
       "      <td>MSFT</td>\n",
       "      <td>-300.25</td>\n",
       "    </tr>\n",
       "    <tr>\n",
       "      <th>4385</th>\n",
       "      <td>2023-09-07</td>\n",
       "      <td>NVDA</td>\n",
       "      <td>-352.14</td>\n",
       "    </tr>\n",
       "    <tr>\n",
       "      <th>4526</th>\n",
       "      <td>2023-09-27</td>\n",
       "      <td>META</td>\n",
       "      <td>-401.34</td>\n",
       "    </tr>\n",
       "  </tbody>\n",
       "</table>\n",
       "</div>"
      ],
      "text/plain": [
       "           date symbol   close\n",
       "1259 2022-06-27   INTC -548.06\n",
       "1446 2022-07-22   META -404.09\n",
       "1608 2022-08-15   BABA -496.46\n",
       "1884 2022-09-22   MSFT -298.92\n",
       "1936 2022-09-29   META -399.41\n",
       "2617 2023-01-03   NFLX -453.18\n",
       "3264 2023-04-04   MSFT -303.99\n",
       "3426 2023-04-26   META -398.06\n",
       "4334 2023-08-31   MSFT -300.25\n",
       "4385 2023-09-07   NVDA -352.14\n",
       "4526 2023-09-27   META -401.34"
      ]
     },
     "execution_count": 64,
     "metadata": {},
     "output_type": "execute_result"
    }
   ],
   "source": [
    "price_mean = stock_prices['close'].mean(skipna=True)\n",
    "price_std = stock_prices['close'].std(skipna=True)\n",
    "outliers = stock_prices[(stock_prices['close'] - price_mean).abs() > 4 * price_std]\n",
    "outliers"
   ]
  },
  {
   "cell_type": "markdown",
   "metadata": {},
   "source": [
    "# 8. Validate time series continuity: each symbol should have consistent trading dates"
   ]
  },
  {
   "cell_type": "code",
   "execution_count": 73,
   "metadata": {},
   "outputs": [
    {
     "data": {
      "text/plain": [
       "date      0\n",
       "symbol    0\n",
       "close     0\n",
       "dtype: int64"
      ]
     },
     "execution_count": 73,
     "metadata": {},
     "output_type": "execute_result"
    }
   ],
   "source": [
    "prev = stock_prices['close'].ffill\n",
    "next_ = stock_prices['close'].bfill\n",
    "\n",
    "stock_prices['close'] = stock_prices.groupby('symbol')['close'].transform(lambda x: x.interpolate(method='linear'))"
   ]
  }
 ],
 "metadata": {
  "kernelspec": {
   "display_name": "Python 3",
   "language": "python",
   "name": "python3"
  },
  "language_info": {
   "codemirror_mode": {
    "name": "ipython",
    "version": 3
   },
   "file_extension": ".py",
   "mimetype": "text/x-python",
   "name": "python",
   "nbconvert_exporter": "python",
   "pygments_lexer": "ipython3",
   "version": "3.12.3"
  }
 },
 "nbformat": 4,
 "nbformat_minor": 2
}
